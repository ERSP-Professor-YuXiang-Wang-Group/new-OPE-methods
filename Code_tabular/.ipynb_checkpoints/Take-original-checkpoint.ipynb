{
 "cells": [
  {
   "cell_type": "code",
   "execution_count": 100,
   "metadata": {},
   "outputs": [],
   "source": [
    "import numpy as np\n",
    "from scipy.optimize import linprog\n",
    "from scipy.optimize import minimize\n",
    "import quadprog\n",
    "\n",
    "\n",
    "def quadratic_solver(n, M, regularizer):\n",
    "    qp_G = np.matmul(M, M.T)\n",
    "    qp_G += regularizer * np.eye(n)\n",
    "\n",
    "    qp_a = np.zeros(n, dtype = np.float64)\n",
    "\n",
    "    qp_C = np.zeros((n,n+1), dtype = np.float64)\n",
    "    for i in range(n):\n",
    "        qp_C[i,0] = 1.0\n",
    "        qp_C[i,i+1] = 1.0\n",
    "    qp_b = np.zeros(n+1, dtype = np.float64)\n",
    "    qp_b[0] = 1.0\n",
    "    meq = 1\n",
    "    res = quadprog.solve_qp(qp_G, qp_a, qp_C, qp_b, meq)\n",
    "    w = res[0]\n",
    "    return w\n",
    "\n",
    "class Density_Ratio_discounted(object):\n",
    "    def __init__(self, num_state, gamma):\n",
    "        self.num_state = num_state\n",
    "        self.Ghat = np.zeros([num_state, num_state], dtype = np.float64)\n",
    "        self.Nstate = np.zeros([num_state, 1], dtype = np.float64)\n",
    "        self.initial_b = np.zeros([num_state], dtype = np.float64)\n",
    "        self.gamma = gamma\n",
    "\n",
    "    def reset(self):\n",
    "        num_state = self.num_state\n",
    "        self.Ghat = np.zeros([num_state, num_state], dtype = np.float64)\n",
    "        self.Nstate = np.zeros([num_state, 1], dtype = np.float64)\n",
    "\n",
    "    def feed_data(self, cur, next, initial, policy_ratio, discounted_t):\n",
    "        if cur == -1:\n",
    "            self.Ghat[next, next] -= discounted_t\n",
    "        else:\n",
    "            self.Ghat[cur, next] += policy_ratio * discounted_t\n",
    "            self.Ghat[cur, initial] += (1-self.gamma)/self.gamma * discounted_t\n",
    "            self.Ghat[next, next] -= discounted_t\n",
    "            self.Nstate[cur] += discounted_t\n",
    "\n",
    "    def density_ratio_estimate(self, regularizer = 0.001):\n",
    "        Frequency = self.Nstate.reshape(-1)\n",
    "        tvalid = np.where(Frequency >= 1e-20)\n",
    "        G = np.zeros_like(self.Ghat)\n",
    "        Frequency = Frequency/np.sum(Frequency)\n",
    "        G[tvalid] = self.Ghat[tvalid]/(Frequency[:,None])[tvalid]\t\t\n",
    "        n = self.num_state\n",
    "        x = quadratic_solver(n, G/50.0, regularizer)\n",
    "        w = np.zeros(self.num_state)\n",
    "        w[tvalid] = x[tvalid]/Frequency[tvalid]\n",
    "        return x, w\n",
    "\n",
    "\n",
    "\n",
    "\n"
   ]
  },
  {
   "cell_type": "code",
   "execution_count": 166,
   "metadata": {},
   "outputs": [],
   "source": [
    "\n",
    "\n",
    "\n",
    "import os\n",
    "import sys\n",
    "import argparse\n",
    "import optparse\n",
    "import subprocess\n",
    "import numpy as np\n",
    "#######from Density_Ratio_discrete import Density_Ratio_discrete, Density_Ratio_discounted\n",
    "from Q_learning import Q_learning\n",
    "from environment import random_walk_2d, taxi\n",
    "# import matplotlib\n",
    "# matplotlib.use('Agg')\n",
    "# import matplotlib.pyplot as plt\n",
    "# from matplotlib.backends.backend_pdf import PdfPages\n",
    "# import seaborn as sns\n",
    "# sns.set(style=\"white\")\n",
    "\n",
    "\n",
    "def roll_out(state_num, env, policy, num_trajectory, truncate_size):\n",
    "\tSASR = []\n",
    "\ttotal_reward = 0.0\n",
    "\tfrequency = np.zeros(state_num)\n",
    "\tfor i_trajectory in range(num_trajectory):\n",
    "\t\tstate = env.reset()\n",
    "\t\tsasr = []\n",
    "\t\tfor i_t in range(truncate_size):\n",
    "\t\t\t#env.render()\n",
    "\t\t\tp_action = policy[state, :]\n",
    "\t\t\taction = np.random.choice(p_action.shape[0], 1, p = p_action)[0]\n",
    "\t\t\tnext_state, reward = env.step(action)\n",
    "\n",
    "\t\t\tsasr.append((state, action, next_state, reward))\n",
    "\t\t\tfrequency[state] += 1\n",
    "\t\t\ttotal_reward += reward\n",
    "\t\t\t#print env.state_decoding(state)\n",
    "\t\t\t#a = input()\n",
    "\n",
    "\t\t\tstate = next_state\n",
    "\t\tSASR.append(sasr)\n",
    "\treturn SASR, frequency, total_reward/(num_trajectory * truncate_size)\n",
    "\n",
    "def train_density_ratio(SASR, policy0, policy1, den_discrete, gamma):\n",
    "\tfor sasr in SASR:\n",
    "\t\tdiscounted_t = 1.0\n",
    "\t\tinitial_state = sasr[0,0]\n",
    "\t\tfor state, action, next_state, reward in sasr:\n",
    "\t\t\tdiscounted_t *= gamma\n",
    "\t\t\tpolicy_ratio = policy1[state, action]/policy0[state, action]\n",
    "\t\t\tden_discrete.feed_data(state, next_state, initial_state, policy_ratio, discounted_t)\n",
    "\t\tden_discrete.feed_data(-1, initial_state, initial_state, 1, 1-discounted_t)\n",
    "\t\t\n",
    "\tx, w = den_discrete.density_ratio_estimate()\n",
    "\treturn x, w\n",
    "\n",
    "def off_policy_evaluation_density_ratio(SASR, policy0, policy1, density_ratio, gamma):\n",
    "\ttotal_reward = 0.0\n",
    "\tself_normalizer = 0.0\n",
    "\tfor sasr in SASR:\n",
    "\t\tdiscounted_t = 1.0\n",
    "\t\tfor state, action, next_state, reward in sasr:\n",
    "\t\t\tpolicy_ratio = policy1[state, action]/policy0[state, action]\n",
    "\t\t\ttotal_reward += density_ratio[state] * policy_ratio * reward * discounted_t\n",
    "\t\t\tself_normalizer += density_ratio[state] * policy_ratio * discounted_t\n",
    "\t\t\tdiscounted_t *= gamma\n",
    "\treturn total_reward / self_normalizer\n",
    "\n",
    "def on_policy(SASR, gamma):\n",
    "\ttotal_reward = 0.0\n",
    "\tself_normalizer = 0.0\n",
    "\tfor sasr in SASR:\n",
    "\t\tdiscounted_t = 1.0\n",
    "\t\tfor state, action, next_state, reward in sasr:\n",
    "\t\t\ttotal_reward += reward * discounted_t\n",
    "\t\t\tself_normalizer += discounted_t\n",
    "\t\t\tdiscounted_t *= gamma\n",
    "\treturn total_reward / self_normalizer\n",
    "\n",
    "def importance_sampling_estimator(SASR, policy0, policy1, gamma):\n",
    "\tmean_est_reward = 0.0\n",
    "\tfor sasr in SASR:\n",
    "\t\tlog_trajectory_ratio = 0.0\n",
    "\t\ttotal_reward = 0.0\n",
    "\t\tdiscounted_t = 1.0\n",
    "\t\tself_normalizer = 0.0\n",
    "\t\tfor state, action, next_state, reward in sasr:\n",
    "\t\t\tlog_trajectory_ratio += np.log(policy1[state, action]) - np.log(policy0[state, action])\n",
    "\t\t\ttotal_reward += reward * discounted_t\n",
    "\t\t\tself_normalizer += discounted_t\n",
    "\t\t\tdiscounted_t *= gamma\n",
    "\t\tavr_reward = total_reward / self_normalizer\n",
    "\t\tmean_est_reward += avr_reward * np.exp(log_trajectory_ratio)\n",
    "\tmean_est_reward /= len(SASR)\n",
    "\treturn mean_est_reward\n",
    "\n",
    "def importance_sampling_estimator_stepwise(SASR, policy0, policy1, gamma):\n",
    "\tmean_est_reward = 0.0\n",
    "\tfor sasr in SASR:\n",
    "\t\tstep_log_pr = 0.0\n",
    "\t\test_reward = 0.0\n",
    "\t\tdiscounted_t = 1.0\n",
    "\t\tself_normalizer = 0.0\n",
    "\t\tfor state, action, next_state, reward in sasr:\n",
    "\t\t\tstep_log_pr += np.log(policy1[state, action]) - np.log(policy0[state, action])\n",
    "\t\t\test_reward += np.exp(step_log_pr)*reward*discounted_t\n",
    "\t\t\tself_normalizer += discounted_t\n",
    "\t\t\tdiscounted_t *= gamma\n",
    "\t\test_reward /= self_normalizer\n",
    "\t\tmean_est_reward += est_reward\n",
    "\tmean_est_reward /= len(SASR)\n",
    "\treturn mean_est_reward\n",
    "\n",
    "def weighted_importance_sampling_estimator(SASR, policy0, policy1, gamma):\n",
    "\ttotal_rho = 0.0\n",
    "\test_reward = 0.0\n",
    "\tfor sasr in SASR:\n",
    "\t\ttotal_reward = 0.0\n",
    "\t\tlog_trajectory_ratio = 0.0\n",
    "\t\tdiscounted_t = 1.0\n",
    "\t\tself_normalizer = 0.0\n",
    "\t\tfor state, action, next_state, reward in sasr:\n",
    "\t\t\tlog_trajectory_ratio += np.log(policy1[state, action]) - np.log(policy0[state, action])\n",
    "\t\t\ttotal_reward += reward * discounted_t\n",
    "\t\t\tself_normalizer += discounted_t\n",
    "\t\t\tdiscounted_t *= gamma\n",
    "\t\tavr_reward = total_reward / self_normalizer\n",
    "\t\ttrajectory_ratio = np.exp(log_trajectory_ratio)\n",
    "\t\ttotal_rho += trajectory_ratio\n",
    "\t\test_reward += trajectory_ratio * avr_reward\n",
    "\n",
    "\tavr_rho = total_rho / len(SASR)\n",
    "\treturn est_reward / avr_rho/ len(SASR)\n",
    "\n",
    "def weighted_importance_sampling_estimator_stepwise(SASR, policy0, policy1, gamma):\n",
    "\tLog_policy_ratio = []\n",
    "\tREW = []\n",
    "\tfor sasr in SASR:\n",
    "\t\tlog_policy_ratio = []\n",
    "\t\trew = []\n",
    "\t\tdiscounted_t = 1.0\n",
    "\t\tself_normalizer = 0.0\n",
    "\t\tfor state, action, next_state, reward in sasr:\n",
    "\t\t\tlog_pr = np.log(policy1[state, action]) - np.log(policy0[state, action])\n",
    "\t\t\tif log_policy_ratio:\n",
    "\t\t\t\tlog_policy_ratio.append(log_pr + log_policy_ratio[-1])\n",
    "\t\t\telse:\n",
    "\t\t\t\tlog_policy_ratio.append(log_pr)\n",
    "\t\t\trew.append(reward * discounted_t)\n",
    "\t\t\tself_normalizer += discounted_t\n",
    "\t\t\tdiscounted_t *= gamma\n",
    "\t\tLog_policy_ratio.append(log_policy_ratio)\n",
    "\t\tREW.append(rew)\n",
    "\test_reward = 0.0\n",
    "\trho = np.exp(Log_policy_ratio)\n",
    "\t#print 'rho shape = {}'.format(rho.shape)\n",
    "\tREW = np.array(REW)\n",
    "\tfor i in range(REW.shape[0]):\n",
    "\t\test_reward += np.sum(rho[i]/np.mean(rho, axis = 0) * REW[i])/self_normalizer\n",
    "\treturn est_reward/REW.shape[0]\n",
    "\n",
    "\n",
    "def Q_learning(env, num_trajectory, truncate_size, temperature = 2.0):\n",
    "\tagent = Q_learning(n_state, n_action, 0.01, 0.99)\n",
    "\n",
    "\tstate = env.reset()\n",
    "\tfor k in range(20):\n",
    "\t\tprint 'Training for episode {}'.format(k)\n",
    "\t\tfor i in range(50):\n",
    "\t\t\tfor j in range(5000):\n",
    "\t\t\t\taction = agent.choose_action(state, temperature)\n",
    "\t\t\t\tnext_state, reward = env.step(action)\n",
    "\t\t\t\tagent.update(state, action, next_state, reward)\n",
    "\t\t\t\tstate = next_state\n",
    "\t\tpi = agent.get_pi(temperature)\n",
    "\t\tnp.save('taxi-policy/pi{}.npy'.format(k), pi)\n",
    "\t\tSAS, f, avr_reward = roll_out(n_state, env, pi, num_trajectory, truncate_size)\n",
    "\t\tprint 'Episode {} reward = {}'.format(k, avr_reward)\n",
    "\t\theat_map(length, f, env, 'heatmap/pi{}.pdf'.format(k))\n",
    "\n",
    "def heat_map(length, f, env, filename):\n",
    "\tp_matrix = np.zeros([length, length], dtype = np.float32)\n",
    "\tfor state in range(env.n_state):\n",
    "\t\tx,y,_,_ = env.state_decoding(state)\n",
    "\t\t#x,y = env.state_decoding(state)\n",
    "\t\tp_matrix[x,y] = f[state]\n",
    "\tp_matrix = p_matrix / np.sum(p_matrix)\n",
    "\t\n",
    "\tsns.heatmap(p_matrix, cmap=\"YlGnBu\")#, vmin = 0.0, vmax = 0.07)\n",
    "\tppPDF = PdfPages(filename)\n",
    "\tppPDF.savefig()\n",
    "\tppPDF.close()\n",
    "\tplt.clf()\n",
    "\n",
    "    \n",
    "      \n",
    "            \n",
    "    \n",
    "def model_based(n_state, n_action, SASR, pi, gamma):\n",
    "    T = np.zeros([n_state, n_action, n_state], dtype = np.float32)\n",
    "    R = np.zeros([n_state, n_action], dtype = np.float32)\n",
    "    R_count = np.zeros([n_state, n_action], dtype = np.int32)\n",
    "    for sasr in SASR:\n",
    "        for state, action, next_state, reward in sasr:\n",
    "            T[state, action, next_state] += 1\n",
    "            R[state, action] += reward\n",
    "            R_count[state, action] += 1\n",
    "    d0 = np.zeros([n_state, 1], dtype = np.float32)\n",
    "\n",
    "    for state in SASR[:,0,0].flat:\n",
    "        d0[state, 0] += 1.0\n",
    "    ###d0 = np.load(\"emp_hist.npy\")\n",
    "    t = np.where(R_count > 0)\n",
    "    t0 = np.where(R_count == 0)\n",
    "    R[t] = R[t]/R_count[t]\n",
    "    R[t0] = np.mean(R[t])\n",
    "    T = T + 1e-9\t# smoothing\n",
    "    T = T/np.sum(T, axis = -1)[:,:,None]\n",
    "    Tpi = np.zeros([n_state, n_state])\n",
    "    for state in range(n_state):\n",
    "        for next_state in range(n_state):\n",
    "            for action in range(n_action):\n",
    "                Tpi[state, next_state] += T[state, action, next_state] * pi[state, action]\n",
    "    dt = d0/np.sum(d0)\n",
    "    dt = emp_hist\n",
    "    dpi = np.zeros([n_state, 1], dtype = np.float32)\n",
    "    truncate_size = SASR.shape[1]\n",
    "    discounted_t = 1.0\n",
    "    self_normalizer = 0.0\n",
    "    for i in range(500):\n",
    "        dpi += dt * discounted_t\n",
    "        if i < 200:\n",
    "            dt = np.dot(Tpi.T,dt)\n",
    "        self_normalizer += discounted_t\n",
    "        discounted_t *= gamma\n",
    "    dpi /= self_normalizer\n",
    "    Rpi = np.sum(R * pi, axis = -1)#####print Rpi\n",
    "    return np.sum(dpi.reshape(-1) * Rpi)\n",
    "\n",
    "def run_experiment(n_state, n_action, SASR, pi0, pi1, gamma):\n",
    "\t\n",
    "\tden_discrete = Density_Ratio_discounted(n_state, gamma)\n",
    "\tx, w = train_density_ratio(SASR, pi0, pi1, den_discrete, gamma)\n",
    "\tx = x.reshape(-1)\n",
    "\tw = w.reshape(-1)\n",
    "\n",
    "\test_DENR = 0.0 ####off_policy_evaluation_density_ratio(SASR, pi0, pi1, w, gamma)\n",
    "\test_naive_average = on_policy(SASR, gamma)\n",
    "\test_IST = 0.0 ####importance_sampling_estimator(SASR, pi0, pi1, gamma)\n",
    "\test_ISS = 0.0 ###importance_sampling_estimator_stepwise(SASR, pi0, pi1, gamma)\n",
    "\test_WIST = 0.0 ###weighted_importance_sampling_estimator(SASR, pi0, pi1, gamma)\n",
    "\test_WISS = 0.0 ###weighted_importance_sampling_estimator_stepwise(SASR, pi0, pi1, gamma)\n",
    "\t\n",
    "\test_model_based = model_based(n_state, n_action, SASR, pi1, gamma)\n",
    "\t#return est_model_based\n",
    "\treturn est_DENR, est_naive_average, est_IST, est_ISS, est_WIST, est_WISS, est_model_based\n",
    "\n"
   ]
  },
  {
   "cell_type": "code",
   "execution_count": 168,
   "metadata": {},
   "outputs": [
    {
     "name": "stdout",
     "output_type": "stream",
     "text": [
      "------seed = 0------\n",
      "  ESTIMATOR: On Policy, rewards = -0.218410491943\n",
      "  ESTIMATOR: Density Ratio, rewards = 0.0\n",
      "  ESTIMATOR: Naive Average, rewards = -0.364866822958\n",
      "  ESTIMATOR: IST, rewards = 0.0\n",
      "  ESTIMATOR: ISS, rewards = 0.0\n",
      "  ESTIMATOR: WIST, rewards = 0.0\n",
      "  ESTIMATOR: WISS, rewards = 0.0\n",
      "  ESTIMATOR: Model Based, rewards = -0.236762136221\n",
      "----------------------\n"
     ]
    },
    {
     "ename": "KeyboardInterrupt",
     "evalue": "",
     "output_type": "error",
     "traceback": [
      "\u001b[0;31m---------------------------------------------------------------------------\u001b[0m",
      "\u001b[0;31mKeyboardInterrupt\u001b[0m                         Traceback (most recent call last)",
      "\u001b[0;32m<ipython-input-168-704fac5d19ab>\u001b[0m in \u001b[0;36m<module>\u001b[0;34m()\u001b[0m\n\u001b[1;32m     23\u001b[0m     \u001b[0mnp\u001b[0m\u001b[0;34m.\u001b[0m\u001b[0mrandom\u001b[0m\u001b[0;34m.\u001b[0m\u001b[0mseed\u001b[0m\u001b[0;34m(\u001b[0m\u001b[0mk\u001b[0m\u001b[0;34m)\u001b[0m\u001b[0;34m\u001b[0m\u001b[0m\n\u001b[1;32m     24\u001b[0m     \u001b[0mSASR0\u001b[0m\u001b[0;34m,\u001b[0m \u001b[0m_\u001b[0m\u001b[0;34m,\u001b[0m \u001b[0m_\u001b[0m \u001b[0;34m=\u001b[0m \u001b[0mroll_out\u001b[0m\u001b[0;34m(\u001b[0m\u001b[0mn_state\u001b[0m\u001b[0;34m,\u001b[0m \u001b[0menv\u001b[0m\u001b[0;34m,\u001b[0m \u001b[0mpi_behavior\u001b[0m\u001b[0;34m,\u001b[0m \u001b[0mnt\u001b[0m\u001b[0;34m,\u001b[0m \u001b[0mts\u001b[0m\u001b[0;34m)\u001b[0m\u001b[0;34m\u001b[0m\u001b[0m\n\u001b[0;32m---> 25\u001b[0;31m     \u001b[0mres\u001b[0m\u001b[0;34m[\u001b[0m\u001b[0;36m1\u001b[0m\u001b[0;34m:\u001b[0m\u001b[0;34m,\u001b[0m\u001b[0mk\u001b[0m\u001b[0;34m]\u001b[0m \u001b[0;34m=\u001b[0m \u001b[0mrun_experiment\u001b[0m\u001b[0;34m(\u001b[0m\u001b[0mn_state\u001b[0m\u001b[0;34m,\u001b[0m \u001b[0mn_action\u001b[0m\u001b[0;34m,\u001b[0m \u001b[0mnp\u001b[0m\u001b[0;34m.\u001b[0m\u001b[0marray\u001b[0m\u001b[0;34m(\u001b[0m\u001b[0mSASR0\u001b[0m\u001b[0;34m)\u001b[0m\u001b[0;34m,\u001b[0m \u001b[0mpi_behavior\u001b[0m\u001b[0;34m,\u001b[0m \u001b[0mpi_target\u001b[0m\u001b[0;34m,\u001b[0m \u001b[0mgm\u001b[0m\u001b[0;34m)\u001b[0m\u001b[0;34m\u001b[0m\u001b[0m\n\u001b[0m\u001b[1;32m     26\u001b[0m \u001b[0;34m\u001b[0m\u001b[0m\n\u001b[1;32m     27\u001b[0m     \u001b[0mnp\u001b[0m\u001b[0;34m.\u001b[0m\u001b[0mrandom\u001b[0m\u001b[0;34m.\u001b[0m\u001b[0mseed\u001b[0m\u001b[0;34m(\u001b[0m\u001b[0mk\u001b[0m\u001b[0;34m)\u001b[0m\u001b[0;34m\u001b[0m\u001b[0m\n",
      "\u001b[0;32m<ipython-input-166-f07332b6b9c5>\u001b[0m in \u001b[0;36mrun_experiment\u001b[0;34m(n_state, n_action, SASR, pi0, pi1, gamma)\u001b[0m\n\u001b[1;32m    241\u001b[0m \u001b[0;34m\u001b[0m\u001b[0m\n\u001b[1;32m    242\u001b[0m         \u001b[0mden_discrete\u001b[0m \u001b[0;34m=\u001b[0m \u001b[0mDensity_Ratio_discounted\u001b[0m\u001b[0;34m(\u001b[0m\u001b[0mn_state\u001b[0m\u001b[0;34m,\u001b[0m \u001b[0mgamma\u001b[0m\u001b[0;34m)\u001b[0m\u001b[0;34m\u001b[0m\u001b[0m\n\u001b[0;32m--> 243\u001b[0;31m         \u001b[0mx\u001b[0m\u001b[0;34m,\u001b[0m \u001b[0mw\u001b[0m \u001b[0;34m=\u001b[0m \u001b[0mtrain_density_ratio\u001b[0m\u001b[0;34m(\u001b[0m\u001b[0mSASR\u001b[0m\u001b[0;34m,\u001b[0m \u001b[0mpi0\u001b[0m\u001b[0;34m,\u001b[0m \u001b[0mpi1\u001b[0m\u001b[0;34m,\u001b[0m \u001b[0mden_discrete\u001b[0m\u001b[0;34m,\u001b[0m \u001b[0mgamma\u001b[0m\u001b[0;34m)\u001b[0m\u001b[0;34m\u001b[0m\u001b[0m\n\u001b[0m\u001b[1;32m    244\u001b[0m         \u001b[0mx\u001b[0m \u001b[0;34m=\u001b[0m \u001b[0mx\u001b[0m\u001b[0;34m.\u001b[0m\u001b[0mreshape\u001b[0m\u001b[0;34m(\u001b[0m\u001b[0;34m-\u001b[0m\u001b[0;36m1\u001b[0m\u001b[0;34m)\u001b[0m\u001b[0;34m\u001b[0m\u001b[0m\n\u001b[1;32m    245\u001b[0m         \u001b[0mw\u001b[0m \u001b[0;34m=\u001b[0m \u001b[0mw\u001b[0m\u001b[0;34m.\u001b[0m\u001b[0mreshape\u001b[0m\u001b[0;34m(\u001b[0m\u001b[0;34m-\u001b[0m\u001b[0;36m1\u001b[0m\u001b[0;34m)\u001b[0m\u001b[0;34m\u001b[0m\u001b[0m\n",
      "\u001b[0;32m<ipython-input-166-f07332b6b9c5>\u001b[0m in \u001b[0;36mtrain_density_ratio\u001b[0;34m(SASR, policy0, policy1, den_discrete, gamma)\u001b[0m\n\u001b[1;32m     52\u001b[0m                 \u001b[0mden_discrete\u001b[0m\u001b[0;34m.\u001b[0m\u001b[0mfeed_data\u001b[0m\u001b[0;34m(\u001b[0m\u001b[0;34m-\u001b[0m\u001b[0;36m1\u001b[0m\u001b[0;34m,\u001b[0m \u001b[0minitial_state\u001b[0m\u001b[0;34m,\u001b[0m \u001b[0minitial_state\u001b[0m\u001b[0;34m,\u001b[0m \u001b[0;36m1\u001b[0m\u001b[0;34m,\u001b[0m \u001b[0;36m1\u001b[0m\u001b[0;34m-\u001b[0m\u001b[0mdiscounted_t\u001b[0m\u001b[0;34m)\u001b[0m\u001b[0;34m\u001b[0m\u001b[0m\n\u001b[1;32m     53\u001b[0m \u001b[0;34m\u001b[0m\u001b[0m\n\u001b[0;32m---> 54\u001b[0;31m         \u001b[0mx\u001b[0m\u001b[0;34m,\u001b[0m \u001b[0mw\u001b[0m \u001b[0;34m=\u001b[0m \u001b[0mden_discrete\u001b[0m\u001b[0;34m.\u001b[0m\u001b[0mdensity_ratio_estimate\u001b[0m\u001b[0;34m(\u001b[0m\u001b[0;34m)\u001b[0m\u001b[0;34m\u001b[0m\u001b[0m\n\u001b[0m\u001b[1;32m     55\u001b[0m         \u001b[0;32mreturn\u001b[0m \u001b[0mx\u001b[0m\u001b[0;34m,\u001b[0m \u001b[0mw\u001b[0m\u001b[0;34m\u001b[0m\u001b[0m\n\u001b[1;32m     56\u001b[0m \u001b[0;34m\u001b[0m\u001b[0m\n",
      "\u001b[0;32m<ipython-input-100-aaba53b17465>\u001b[0m in \u001b[0;36mdensity_ratio_estimate\u001b[0;34m(self, regularizer)\u001b[0m\n\u001b[1;32m     51\u001b[0m         \u001b[0mG\u001b[0m\u001b[0;34m[\u001b[0m\u001b[0mtvalid\u001b[0m\u001b[0;34m]\u001b[0m \u001b[0;34m=\u001b[0m \u001b[0mself\u001b[0m\u001b[0;34m.\u001b[0m\u001b[0mGhat\u001b[0m\u001b[0;34m[\u001b[0m\u001b[0mtvalid\u001b[0m\u001b[0;34m]\u001b[0m\u001b[0;34m/\u001b[0m\u001b[0;34m(\u001b[0m\u001b[0mFrequency\u001b[0m\u001b[0;34m[\u001b[0m\u001b[0;34m:\u001b[0m\u001b[0;34m,\u001b[0m\u001b[0mNone\u001b[0m\u001b[0;34m]\u001b[0m\u001b[0;34m)\u001b[0m\u001b[0;34m[\u001b[0m\u001b[0mtvalid\u001b[0m\u001b[0;34m]\u001b[0m\u001b[0;34m\u001b[0m\u001b[0m\n\u001b[1;32m     52\u001b[0m         \u001b[0mn\u001b[0m \u001b[0;34m=\u001b[0m \u001b[0mself\u001b[0m\u001b[0;34m.\u001b[0m\u001b[0mnum_state\u001b[0m\u001b[0;34m\u001b[0m\u001b[0m\n\u001b[0;32m---> 53\u001b[0;31m         \u001b[0mx\u001b[0m \u001b[0;34m=\u001b[0m \u001b[0mquadratic_solver\u001b[0m\u001b[0;34m(\u001b[0m\u001b[0mn\u001b[0m\u001b[0;34m,\u001b[0m \u001b[0mG\u001b[0m\u001b[0;34m/\u001b[0m\u001b[0;36m50.0\u001b[0m\u001b[0;34m,\u001b[0m \u001b[0mregularizer\u001b[0m\u001b[0;34m)\u001b[0m\u001b[0;34m\u001b[0m\u001b[0m\n\u001b[0m\u001b[1;32m     54\u001b[0m         \u001b[0mw\u001b[0m \u001b[0;34m=\u001b[0m \u001b[0mnp\u001b[0m\u001b[0;34m.\u001b[0m\u001b[0mzeros\u001b[0m\u001b[0;34m(\u001b[0m\u001b[0mself\u001b[0m\u001b[0;34m.\u001b[0m\u001b[0mnum_state\u001b[0m\u001b[0;34m)\u001b[0m\u001b[0;34m\u001b[0m\u001b[0m\n\u001b[1;32m     55\u001b[0m         \u001b[0mw\u001b[0m\u001b[0;34m[\u001b[0m\u001b[0mtvalid\u001b[0m\u001b[0;34m]\u001b[0m \u001b[0;34m=\u001b[0m \u001b[0mx\u001b[0m\u001b[0;34m[\u001b[0m\u001b[0mtvalid\u001b[0m\u001b[0;34m]\u001b[0m\u001b[0;34m/\u001b[0m\u001b[0mFrequency\u001b[0m\u001b[0;34m[\u001b[0m\u001b[0mtvalid\u001b[0m\u001b[0;34m]\u001b[0m\u001b[0;34m\u001b[0m\u001b[0m\n",
      "\u001b[0;32m<ipython-input-100-aaba53b17465>\u001b[0m in \u001b[0;36mquadratic_solver\u001b[0;34m(n, M, regularizer)\u001b[0m\n\u001b[1;32m     18\u001b[0m     \u001b[0mqp_b\u001b[0m\u001b[0;34m[\u001b[0m\u001b[0;36m0\u001b[0m\u001b[0;34m]\u001b[0m \u001b[0;34m=\u001b[0m \u001b[0;36m1.0\u001b[0m\u001b[0;34m\u001b[0m\u001b[0m\n\u001b[1;32m     19\u001b[0m     \u001b[0mmeq\u001b[0m \u001b[0;34m=\u001b[0m \u001b[0;36m1\u001b[0m\u001b[0;34m\u001b[0m\u001b[0m\n\u001b[0;32m---> 20\u001b[0;31m     \u001b[0mres\u001b[0m \u001b[0;34m=\u001b[0m \u001b[0mquadprog\u001b[0m\u001b[0;34m.\u001b[0m\u001b[0msolve_qp\u001b[0m\u001b[0;34m(\u001b[0m\u001b[0mqp_G\u001b[0m\u001b[0;34m,\u001b[0m \u001b[0mqp_a\u001b[0m\u001b[0;34m,\u001b[0m \u001b[0mqp_C\u001b[0m\u001b[0;34m,\u001b[0m \u001b[0mqp_b\u001b[0m\u001b[0;34m,\u001b[0m \u001b[0mmeq\u001b[0m\u001b[0;34m)\u001b[0m\u001b[0;34m\u001b[0m\u001b[0m\n\u001b[0m\u001b[1;32m     21\u001b[0m     \u001b[0mw\u001b[0m \u001b[0;34m=\u001b[0m \u001b[0mres\u001b[0m\u001b[0;34m[\u001b[0m\u001b[0;36m0\u001b[0m\u001b[0;34m]\u001b[0m\u001b[0;34m\u001b[0m\u001b[0m\n\u001b[1;32m     22\u001b[0m     \u001b[0;32mreturn\u001b[0m \u001b[0mw\u001b[0m\u001b[0;34m\u001b[0m\u001b[0m\n",
      "\u001b[0;32mquadprog/quadprog.pyx\u001b[0m in \u001b[0;36mquadprog.solve_qp\u001b[0;34m()\u001b[0m\n",
      "\u001b[0;32m/home/ubuntu/Downloads/Pythontest/local/lib/python2.7/site-packages/numpy/core/numeric.pyc\u001b[0m in \u001b[0;36masarray\u001b[0;34m(a, dtype, order)\u001b[0m\n\u001b[1;32m    467\u001b[0m \u001b[0;34m\u001b[0m\u001b[0m\n\u001b[1;32m    468\u001b[0m \u001b[0;34m\u001b[0m\u001b[0m\n\u001b[0;32m--> 469\u001b[0;31m \u001b[0;34m@\u001b[0m\u001b[0mset_module\u001b[0m\u001b[0;34m(\u001b[0m\u001b[0;34m'numpy'\u001b[0m\u001b[0;34m)\u001b[0m\u001b[0;34m\u001b[0m\u001b[0m\n\u001b[0m\u001b[1;32m    470\u001b[0m \u001b[0;32mdef\u001b[0m \u001b[0masarray\u001b[0m\u001b[0;34m(\u001b[0m\u001b[0ma\u001b[0m\u001b[0;34m,\u001b[0m \u001b[0mdtype\u001b[0m\u001b[0;34m=\u001b[0m\u001b[0mNone\u001b[0m\u001b[0;34m,\u001b[0m \u001b[0morder\u001b[0m\u001b[0;34m=\u001b[0m\u001b[0mNone\u001b[0m\u001b[0;34m)\u001b[0m\u001b[0;34m:\u001b[0m\u001b[0;34m\u001b[0m\u001b[0m\n\u001b[1;32m    471\u001b[0m     \"\"\"Convert the input to an array.\n",
      "\u001b[0;31mKeyboardInterrupt\u001b[0m: "
     ]
    }
   ],
   "source": [
    "estimator_name = ['On Policy', 'Density Ratio', 'Naive Average', 'IST', 'ISS', 'WIST', 'WISS', 'Model Based']\n",
    "length = 5\n",
    "env = taxi(length)\n",
    "n_state = env.n_state\n",
    "n_action = env.n_action\n",
    "\n",
    "\n",
    "\n",
    "behavior_ID = 4\n",
    "target_ID = 5\n",
    "\n",
    "pi_target = np.load('taxi-policy/pi19.npy')\n",
    "alpha = 0.2  # mixture ratio\n",
    "nt = 50 # num_trajectory\n",
    "ts = 2000 # truncate_size\n",
    "gm = 0.98 # gamma\n",
    "pi_behavior = np.load('taxi-policy/pi18.npy')\n",
    "\n",
    "pi_behavior = alpha * pi_target + (1-alpha) * pi_behavior\n",
    "\n",
    "res = np.zeros((8, 20), dtype = np.float32)\n",
    "for k in range(20):\n",
    "    np.random.seed(k)\n",
    "    SASR0, _, _ = roll_out(n_state, env, pi_behavior, nt, ts)\n",
    "    res[1:,k] = run_experiment(n_state, n_action, np.array(SASR0), pi_behavior, pi_target, gm)\n",
    "\n",
    "    np.random.seed(k)\n",
    "    SASR, _, _ = roll_out(n_state, env, pi_target, nt, ts)\n",
    "    res[0, k] = on_policy(np.array(SASR), gm)\n",
    "\n",
    "    print('------seed = {}------'.format(k))\n",
    "    for i in range(8):\n",
    "        print('  ESTIMATOR: '+estimator_name[i]+ ', rewards = {}'.format(res[i,k]))\n",
    "    print('----------------------')\n",
    "\n"
   ]
  },
  {
   "cell_type": "code",
   "execution_count": 172,
   "metadata": {},
   "outputs": [],
   "source": [
    "def model_based(n_state, n_action, SASR, pi, gamma):\n",
    "    Ghat = 0.0*np.identity(n_state*n_action, dtype = np.float64)\n",
    "    Nstate = np.zeros([n_state*n_action, 1], dtype = np.float64)\n",
    "    print gamma\n",
    "    for sasr in SASR:\n",
    "        for state, action, next_state, reward in sasr:\n",
    "            state = np.int(state)\n",
    "            action = np.int(action)\n",
    "            next_state = np.int(next_state)\n",
    "            ccc = 0.0 \n",
    "            v_t = pi[next_state,:]\n",
    "            Ghat[state*n_action+action,state*n_action+action] +=1.0\n",
    "            Ghat[state*n_action+action,next_state*n_action:(next_state+1)*n_action] -= gamma*v_t \n",
    "            Nstate[state*n_action+action]+= reward\n",
    "            \n",
    "    return Ghat,Nstate"
   ]
  },
  {
   "cell_type": "code",
   "execution_count": 208,
   "metadata": {},
   "outputs": [
    {
     "name": "stdout",
     "output_type": "stream",
     "text": [
      "0.9\n",
      "(12000, 12000)\n",
      "(6831,)\n"
     ]
    }
   ],
   "source": [
    "def quadratic_solver(n, M, bbb ,tvalid, regularizer):\n",
    "    qp_G = np.matmul(M.T, M)\n",
    "    qp_G += regularizer * np.eye(n)\n",
    "\n",
    "    qp_a = np.matmul(M.T, bbb)###np.zeros(n, dtype = np.float64)\n",
    "\n",
    "    qp_C = np.zeros((n,n), dtype = np.float64)\n",
    "    for i in range(n):\n",
    "        if i in tvalid:\n",
    "            qp_C[i,i] = 1.0\n",
    "    qp_b = np.zeros(n, dtype = np.float64)\n",
    "   \n",
    "    meq = n_state*n_action\n",
    "    res = quadprog.solve_qp(qp_G, qp_a.reshape(-1), qp_C, qp_b, meq)\n",
    "    w = res[0]\n",
    "    return w\n",
    "\n",
    "\n",
    "Ghat, Nsate = model_based(n_state,n_action,SASR,pi_target,gamma)\n",
    "print Ghat.shape\n",
    "\n",
    "for sasr in SASR:\n",
    "        for state, action, next_state, reward in sasr:\n",
    "            count[state*n_action+action] += 1\n",
    "hist = count/np.sum(count) \n",
    "tvalid = np.where(hist<0.00002)[0]\n",
    "print tvalid.shape"
   ]
  },
  {
   "cell_type": "code",
   "execution_count": null,
   "metadata": {},
   "outputs": [],
   "source": [
    "q_new = quadratic_solver(n_state*n_action, Ghat, Nsate, tvalid,0.0001 ).reshape([n_state,n_action])\n",
    "qqq = np.sum(q_new*pi_target)*(1.0-gamma)/n_state\n",
    "print qqq"
   ]
  },
  {
   "cell_type": "code",
   "execution_count": 202,
   "metadata": {},
   "outputs": [
    {
     "name": "stdout",
     "output_type": "stream",
     "text": [
      "[1.e-05 0.e+00 1.e-05 ... 0.e+00 0.e+00 0.e+00]\n",
      "6831\n"
     ]
    }
   ],
   "source": [
    "count = np.zeros([n_state*n_action, 1], dtype = np.float64)\n",
    "    \n",
    "for sasr in SASR:\n",
    "        for state, action, next_state, reward in sasr:\n",
    "            count[state*n_action+action] += 1\n",
    "            \n",
    "hist = count/np.sum(count)\n",
    "print hist[hist<0.0001]\n",
    "print np.sum(hist<0.00002)"
   ]
  },
  {
   "cell_type": "code",
   "execution_count": 161,
   "metadata": {},
   "outputs": [
    {
     "name": "stdout",
     "output_type": "stream",
     "text": [
      "(1, 500, 4)\n",
      "\n"
     ]
    }
   ],
   "source": [
    "pi = pi_target\n",
    "SASR = np.array(SASR0)[0:1,:,:]\n",
    "\n",
    "print SASR.shape\n",
    "gamma = gm\n",
    "def model_based(n_state, n_action, SASR, pi, gamma):\n",
    "    Ghat = 100.0*np.identity(n_state*n_action, dtype = np.float64)\n",
    "    print Ghat[0,0]\n",
    "    Nstate = np.zeros([n_state*n_action, 1], dtype = np.float64)\n",
    "    for sasr in SASR:\n",
    "        for state, action, next_state, reward in sasr:\n",
    "            state = np.int(state)\n",
    "            action = np.int(action)\n",
    "            next_state = np.int(next_state)\n",
    "            ccc = 0.0 \n",
    "            v_t = pi[next_state,:].reshape(1,n_action)\n",
    "           \n",
    "            ccc = 1.0-gamma*np.matmul(v_t, Ghat[next_state*n_action:(next_state+1)*n_action,state*n_action+action])+Ghat[state*n_action+action,state*n_action+action]\n",
    "            Ghat-= np.matmul(Ghat[:,state*n_action+action:state*n_action+action+1],Ghat[state*n_action+action:state*n_action+action+1,:]  )/ccc- gamma*np.matmul(Ghat[:,state*n_action+action:state*n_action+action+1],np.matmul(v_t,Ghat[next_state*n_action:(next_state+1)*n_action,:]) )/ccc\n",
    "            Nstate[state*n_action+action]+= reward\n",
    "            \n",
    "            q_new = np.matmul(Ghat,Nsate).reshape([n_state,n_action])\n",
    "            qqq = np.sum(q_new*pi)\n",
    "            print (1.0-gamma)*qqq/n_state\n",
    "            \n",
    "    return Ghat,Nstate\n",
    "\n",
    "print \n"
   ]
  },
  {
   "cell_type": "code",
   "execution_count": 162,
   "metadata": {},
   "outputs": [
    {
     "name": "stdout",
     "output_type": "stream",
     "text": [
      "100.0\n",
      "0.04978918695088298\n",
      "0.04988746721090804\n",
      "0.051746915461115144\n",
      "0.05156158927916309\n",
      "0.051302526018339054\n",
      "0.05844379737906491\n",
      "0.05889025970804556\n",
      "0.06401020266484575\n",
      "0.0644619891839912\n",
      "0.0653584619554931\n",
      "0.06665086068646527\n",
      "0.37914853736953874\n",
      "-0.013776470209741775\n",
      "-0.012854047592156696\n",
      "-0.012255391030254255\n",
      "-0.012232175988823372\n",
      "-0.012884961494010756\n",
      "-0.01175486537851949\n",
      "-0.011246957162736377\n",
      "-0.010458396826746165\n",
      "-0.0073784509673194025\n",
      "-0.005838910300163585\n",
      "-0.005774446478463891\n",
      "-0.0017011023642578703\n",
      "-0.00019936367256613889\n",
      "0.00022966245215614935\n",
      "0.0013306446361296793\n",
      "0.0011851197371374382\n",
      "0.003068575010967611\n",
      "0.0030048083529251052\n",
      "0.0030048083529251052\n",
      "0.0030048083529251052\n",
      "0.0030048083529251052\n",
      "0.0030048083529251052\n",
      "0.0030048083529251052\n",
      "0.0030048083529251052\n",
      "0.0030048083529251052\n",
      "0.0030048083529251052\n",
      "0.0029846452372513364\n",
      "0.002972175302618139\n",
      "0.002950012924319981\n",
      "0.0029794759285088593\n",
      "0.002952426917250363\n",
      "0.002952426917250363\n",
      "0.002952426917250363\n",
      "0.002952426917250363\n",
      "0.002952426917250363\n",
      "0.002952426917250363\n",
      "0.0029519890233370796\n",
      "0.0029519837808439898\n",
      "0.0029526244817224606\n",
      "0.0029526244817224606\n",
      "0.0029526244817224606\n",
      "0.0029524378038042073\n",
      "0.0029522690891393205\n",
      "0.002952262823097322\n",
      "0.0029519149008294374\n",
      "0.0029519149008294374\n",
      "0.0029519149008294374\n",
      "0.0029519149008294374\n",
      "0.0029519149008294374\n",
      "0.0029061072565442153\n",
      "0.0029061072565442153\n",
      "0.0029061072565442153\n",
      "0.0029061072565442153\n",
      "0.0029061072565442153\n",
      "0.0029061072565442153\n",
      "0.0029061072565442153\n",
      "0.0029061072565442153\n",
      "0.0029061072565442153\n",
      "0.0029061072565442153\n",
      "0.0029061072565442153\n",
      "0.0029021630417928926\n",
      "0.0029200751595992607\n",
      "0.0029200751595992607\n",
      "0.0029200751595992607\n",
      "0.0029200751595992607\n",
      "0.0029200751595992607\n",
      "0.0029200751595992607\n",
      "0.0029122347534972495\n",
      "0.0029008106691028254\n",
      "0.0029203558365001716\n",
      "0.002902093861155165\n"
     ]
    },
    {
     "ename": "KeyboardInterrupt",
     "evalue": "",
     "output_type": "error",
     "traceback": [
      "\u001b[0;31m---------------------------------------------------------------------------\u001b[0m",
      "\u001b[0;31mKeyboardInterrupt\u001b[0m                         Traceback (most recent call last)",
      "\u001b[0;32m<ipython-input-162-e2f05e6a75f7>\u001b[0m in \u001b[0;36m<module>\u001b[0;34m()\u001b[0m\n\u001b[0;32m----> 1\u001b[0;31m \u001b[0mGhat\u001b[0m\u001b[0;34m,\u001b[0m \u001b[0mNsate\u001b[0m \u001b[0;34m=\u001b[0m \u001b[0mmodel_based\u001b[0m\u001b[0;34m(\u001b[0m\u001b[0mn_state\u001b[0m\u001b[0;34m,\u001b[0m\u001b[0mn_action\u001b[0m\u001b[0;34m,\u001b[0m\u001b[0mSASR\u001b[0m\u001b[0;34m,\u001b[0m\u001b[0mpi\u001b[0m\u001b[0;34m,\u001b[0m\u001b[0mgamma\u001b[0m\u001b[0;34m)\u001b[0m\u001b[0;34m\u001b[0m\u001b[0m\n\u001b[0m",
      "\u001b[0;32m<ipython-input-161-a008e10c9b1a>\u001b[0m in \u001b[0;36mmodel_based\u001b[0;34m(n_state, n_action, SASR, pi, gamma)\u001b[0m\n\u001b[1;32m     17\u001b[0m \u001b[0;34m\u001b[0m\u001b[0m\n\u001b[1;32m     18\u001b[0m             \u001b[0mccc\u001b[0m \u001b[0;34m=\u001b[0m \u001b[0;36m1.0\u001b[0m\u001b[0;34m-\u001b[0m\u001b[0mgamma\u001b[0m\u001b[0;34m*\u001b[0m\u001b[0mnp\u001b[0m\u001b[0;34m.\u001b[0m\u001b[0mmatmul\u001b[0m\u001b[0;34m(\u001b[0m\u001b[0mv_t\u001b[0m\u001b[0;34m,\u001b[0m \u001b[0mGhat\u001b[0m\u001b[0;34m[\u001b[0m\u001b[0mnext_state\u001b[0m\u001b[0;34m*\u001b[0m\u001b[0mn_action\u001b[0m\u001b[0;34m:\u001b[0m\u001b[0;34m(\u001b[0m\u001b[0mnext_state\u001b[0m\u001b[0;34m+\u001b[0m\u001b[0;36m1\u001b[0m\u001b[0;34m)\u001b[0m\u001b[0;34m*\u001b[0m\u001b[0mn_action\u001b[0m\u001b[0;34m,\u001b[0m\u001b[0mstate\u001b[0m\u001b[0;34m*\u001b[0m\u001b[0mn_action\u001b[0m\u001b[0;34m+\u001b[0m\u001b[0maction\u001b[0m\u001b[0;34m]\u001b[0m\u001b[0;34m)\u001b[0m\u001b[0;34m+\u001b[0m\u001b[0mGhat\u001b[0m\u001b[0;34m[\u001b[0m\u001b[0mstate\u001b[0m\u001b[0;34m*\u001b[0m\u001b[0mn_action\u001b[0m\u001b[0;34m+\u001b[0m\u001b[0maction\u001b[0m\u001b[0;34m,\u001b[0m\u001b[0mstate\u001b[0m\u001b[0;34m*\u001b[0m\u001b[0mn_action\u001b[0m\u001b[0;34m+\u001b[0m\u001b[0maction\u001b[0m\u001b[0;34m]\u001b[0m\u001b[0;34m\u001b[0m\u001b[0m\n\u001b[0;32m---> 19\u001b[0;31m             \u001b[0mGhat\u001b[0m\u001b[0;34m-=\u001b[0m \u001b[0mnp\u001b[0m\u001b[0;34m.\u001b[0m\u001b[0mmatmul\u001b[0m\u001b[0;34m(\u001b[0m\u001b[0mGhat\u001b[0m\u001b[0;34m[\u001b[0m\u001b[0;34m:\u001b[0m\u001b[0;34m,\u001b[0m\u001b[0mstate\u001b[0m\u001b[0;34m*\u001b[0m\u001b[0mn_action\u001b[0m\u001b[0;34m+\u001b[0m\u001b[0maction\u001b[0m\u001b[0;34m:\u001b[0m\u001b[0mstate\u001b[0m\u001b[0;34m*\u001b[0m\u001b[0mn_action\u001b[0m\u001b[0;34m+\u001b[0m\u001b[0maction\u001b[0m\u001b[0;34m+\u001b[0m\u001b[0;36m1\u001b[0m\u001b[0;34m]\u001b[0m\u001b[0;34m,\u001b[0m\u001b[0mGhat\u001b[0m\u001b[0;34m[\u001b[0m\u001b[0mstate\u001b[0m\u001b[0;34m*\u001b[0m\u001b[0mn_action\u001b[0m\u001b[0;34m+\u001b[0m\u001b[0maction\u001b[0m\u001b[0;34m:\u001b[0m\u001b[0mstate\u001b[0m\u001b[0;34m*\u001b[0m\u001b[0mn_action\u001b[0m\u001b[0;34m+\u001b[0m\u001b[0maction\u001b[0m\u001b[0;34m+\u001b[0m\u001b[0;36m1\u001b[0m\u001b[0;34m,\u001b[0m\u001b[0;34m:\u001b[0m\u001b[0;34m]\u001b[0m  \u001b[0;34m)\u001b[0m\u001b[0;34m/\u001b[0m\u001b[0mccc\u001b[0m\u001b[0;34m-\u001b[0m \u001b[0mgamma\u001b[0m\u001b[0;34m*\u001b[0m\u001b[0mnp\u001b[0m\u001b[0;34m.\u001b[0m\u001b[0mmatmul\u001b[0m\u001b[0;34m(\u001b[0m\u001b[0mGhat\u001b[0m\u001b[0;34m[\u001b[0m\u001b[0;34m:\u001b[0m\u001b[0;34m,\u001b[0m\u001b[0mstate\u001b[0m\u001b[0;34m*\u001b[0m\u001b[0mn_action\u001b[0m\u001b[0;34m+\u001b[0m\u001b[0maction\u001b[0m\u001b[0;34m:\u001b[0m\u001b[0mstate\u001b[0m\u001b[0;34m*\u001b[0m\u001b[0mn_action\u001b[0m\u001b[0;34m+\u001b[0m\u001b[0maction\u001b[0m\u001b[0;34m+\u001b[0m\u001b[0;36m1\u001b[0m\u001b[0;34m]\u001b[0m\u001b[0;34m,\u001b[0m\u001b[0mnp\u001b[0m\u001b[0;34m.\u001b[0m\u001b[0mmatmul\u001b[0m\u001b[0;34m(\u001b[0m\u001b[0mv_t\u001b[0m\u001b[0;34m,\u001b[0m\u001b[0mGhat\u001b[0m\u001b[0;34m[\u001b[0m\u001b[0mnext_state\u001b[0m\u001b[0;34m*\u001b[0m\u001b[0mn_action\u001b[0m\u001b[0;34m:\u001b[0m\u001b[0;34m(\u001b[0m\u001b[0mnext_state\u001b[0m\u001b[0;34m+\u001b[0m\u001b[0;36m1\u001b[0m\u001b[0;34m)\u001b[0m\u001b[0;34m*\u001b[0m\u001b[0mn_action\u001b[0m\u001b[0;34m,\u001b[0m\u001b[0;34m:\u001b[0m\u001b[0;34m]\u001b[0m\u001b[0;34m)\u001b[0m \u001b[0;34m)\u001b[0m\u001b[0;34m/\u001b[0m\u001b[0mccc\u001b[0m\u001b[0;34m\u001b[0m\u001b[0m\n\u001b[0m\u001b[1;32m     20\u001b[0m             \u001b[0mNstate\u001b[0m\u001b[0;34m[\u001b[0m\u001b[0mstate\u001b[0m\u001b[0;34m*\u001b[0m\u001b[0mn_action\u001b[0m\u001b[0;34m+\u001b[0m\u001b[0maction\u001b[0m\u001b[0;34m]\u001b[0m\u001b[0;34m+=\u001b[0m \u001b[0mreward\u001b[0m\u001b[0;34m\u001b[0m\u001b[0m\n\u001b[1;32m     21\u001b[0m \u001b[0;34m\u001b[0m\u001b[0m\n",
      "\u001b[0;31mKeyboardInterrupt\u001b[0m: "
     ]
    }
   ],
   "source": [
    "Ghat, Nsate = model_based(n_state,n_action,SASR,pi,gamma)"
   ]
  },
  {
   "cell_type": "code",
   "execution_count": 148,
   "metadata": {},
   "outputs": [
    {
     "name": "stdout",
     "output_type": "stream",
     "text": [
      "[[ 9.97090132e-05 -2.90986845e-07 -2.90986845e-07 -2.90986845e-07\n",
      "  -2.90986845e-07]\n",
      " [-2.90986845e-07  9.97090132e-05 -2.90986845e-07 -2.90986845e-07\n",
      "  -2.90986845e-07]\n",
      " [-2.90986845e-07 -2.90986845e-07  9.97090132e-05 -2.90986845e-07\n",
      "  -2.90986845e-07]\n",
      " [-2.90986845e-07 -2.90986845e-07 -2.90986845e-07  9.97090132e-05\n",
      "  -2.90986845e-07]\n",
      " [-2.90986845e-07 -2.90986845e-07 -2.90986845e-07 -2.90986845e-07\n",
      "   9.97090132e-05]]\n",
      "20.0\n"
     ]
    }
   ],
   "source": [
    "q_new = np.matmul(Ghat,Nsate).reshape([5,2])\n",
    "qqq = np.sum(q_new*pi)\n",
    "print (1.0-gamma)*qqq/n_state\n"
   ]
  },
  {
   "cell_type": "code",
   "execution_count": 30,
   "metadata": {},
   "outputs": [],
   "source": [
    "pi = pi_target\n",
    "SASR = np.array(SASR0)\n",
    "gamma = gm\n",
    "T = np.zeros([n_state, n_action, n_state], dtype = np.float32)\n",
    "R = np.zeros([n_state, n_action], dtype = np.float32)\n",
    "R_count = np.zeros([n_state, n_action], dtype = np.int32)\n",
    "for sasr in SASR:\n",
    "    for state, action, next_state, reward in sasr:\n",
    "        T[state, action, next_state] += 1\n",
    "        R[state, action] += reward\n",
    "        R_count[state, action] += 1\n",
    "d0 = np.zeros([n_state, 1], dtype = np.float32)\n"
   ]
  },
  {
   "cell_type": "code",
   "execution_count": 43,
   "metadata": {},
   "outputs": [],
   "source": [
    "for state in SASR[:,0,0].flat:\n",
    "\n",
    "    d0[state, 0] += 1.0"
   ]
  },
  {
   "cell_type": "code",
   "execution_count": 36,
   "metadata": {},
   "outputs": [],
   "source": [
    "t = np.where(R_count > 0)\n",
    "t0 = np.where(R_count == 0)\n",
    "R[t] = R[t]/R_count[t]\n",
    "R[t0] = np.mean(R[t])\n",
    "T = T + 1e-9\t# smoothing\n",
    "T = T/np.sum(T, axis = -1)[:,:,None]\n",
    "Tpi = np.zeros([n_state, n_state])\n",
    "for state in range(n_state):\n",
    "    for next_state in range(n_state):\n",
    "        for action in range(n_action):\n",
    "            Tpi[state, next_state] += T[state, action, next_state] * pi[state, action]\n",
    "            "
   ]
  },
  {
   "cell_type": "code",
   "execution_count": 47,
   "metadata": {},
   "outputs": [
    {
     "name": "stdout",
     "output_type": "stream",
     "text": [
      "500\n",
      "99.3429516958\n",
      "(2000, 1)\n",
      "-0.08709696644729789\n"
     ]
    }
   ],
   "source": [
    "dt = d0/np.sum(d0)\n",
    "dpi = np.zeros([n_state, 1], dtype = np.float32)\n",
    "truncate_size = SASR.shape[1]\n",
    "discounted_t = 1.0\n",
    "self_normalizer = 0.0\n",
    "\n",
    "print truncate_size\n",
    "\n",
    "\n",
    "for i in range(truncate_size):\n",
    "    dpi += dt * discounted_t\n",
    "    if i < 50:\n",
    "        dt = np.dot(Tpi.T,dt)\n",
    "    self_normalizer += discounted_t\n",
    "    discounted_t *= gamma\n",
    "print self_normalizer\n",
    "dpi /= self_normalizer\n",
    "Rpi = np.sum(R * pi, axis = -1)\n",
    "print dpi.shape\n",
    "\n",
    "print  np.sum(dpi.reshape(-1) * Rpi)"
   ]
  },
  {
   "cell_type": "code",
   "execution_count": 171,
   "metadata": {},
   "outputs": [
    {
     "name": "stdout",
     "output_type": "stream",
     "text": [
      "(2000,)\n",
      "[[-1.        -0.8605105 -0.8605105 -0.8605105 -0.8605105 -0.8605105]\n",
      " [-1.        -1.        -1.        -1.        -1.        -0.8605105]\n",
      " [-1.        -1.        -1.        -1.        -1.        -1.       ]\n",
      " ...\n",
      " [-1.        -1.        -1.        -1.        -1.        -1.       ]\n",
      " [-0.8605105 -0.8605105 -0.8605105 -0.8605105 -0.8605105 20.       ]\n",
      " [-1.        -1.        -1.        -1.        -1.        -1.       ]]\n",
      "(2000, 6)\n"
     ]
    }
   ],
   "source": [
    "print Rpi.shape\n",
    "print dpi\n",
    "\n",
    "print pi.shape"
   ]
  },
  {
   "cell_type": "code",
   "execution_count": 132,
   "metadata": {},
   "outputs": [
    {
     "name": "stdout",
     "output_type": "stream",
     "text": [
      "(array([-1., -2., -7.]), -3492.2450000000003, array([-1., -2., -7.]), array([1, 0], dtype=int32), array([0., 0., 0., 0.]), array([], dtype=int32))\n"
     ]
    },
    {
     "data": {
      "text/plain": [
       "array([-1., -2., -7.])"
      ]
     },
     "execution_count": 132,
     "metadata": {},
     "output_type": "execute_result"
    }
   ],
   "source": [
    "quadratic_solver(3,aaa.T,-ccc,0.00)"
   ]
  },
  {
   "cell_type": "code",
   "execution_count": 130,
   "metadata": {},
   "outputs": [],
   "source": [
    "def quadratic_solver(n, M, bbb , regularizer):\n",
    "    qp_G = np.matmul(M, M.T)\n",
    "    qp_G += regularizer * np.eye(n)\n",
    "\n",
    "    qp_a = np.matmul(M, bbb)###np.zeros(n, dtype = np.float64)\n",
    "    \n",
    "    qp_C = np.zeros((n,n+1), dtype = np.float64)\n",
    "    for i in range(n):\n",
    "        qp_C[i,0] = 0.0\n",
    "        qp_C[i,i+1] = 0.0\n",
    "    qp_b = np.zeros(n+1, dtype = np.float64)\n",
    "    qp_b[0] = 0.0\n",
    "    meq = 0.0\n",
    "\n",
    "    res = quadprog.solve_qp(qp_G, qp_a, qp_C, qp_b, meq)\n",
    "    print res\n",
    "    w = res[0]\n",
    "    return w"
   ]
  },
  {
   "cell_type": "code",
   "execution_count": 7,
   "metadata": {},
   "outputs": [],
   "source": [
    "weight = np.load(\"weight.npy\")"
   ]
  },
  {
   "cell_type": "code",
   "execution_count": 8,
   "metadata": {},
   "outputs": [
    {
     "data": {
      "text/plain": [
       "(array([1.971e+03, 1.000e+01, 1.100e+01, 5.000e+00, 2.000e+00, 0.000e+00,\n",
       "        0.000e+00, 0.000e+00, 0.000e+00, 1.000e+00]),\n",
       " array([-6.17277964e-15,  3.80119639e-06,  7.60239278e-06,  1.14035892e-05,\n",
       "         1.52047856e-05,  1.90059820e-05,  2.28071783e-05,  2.66083747e-05,\n",
       "         3.04095711e-05,  3.42107675e-05,  3.80119639e-05]),\n",
       " <a list of 10 Patch objects>)"
      ]
     },
     "execution_count": 8,
     "metadata": {},
     "output_type": "execute_result"
    },
    {
     "data": {
      "image/png": "[encoded data removed]",
      "text/plain": [
       "<Figure size 432x288 with 1 Axes>"
      ]
     },
     "metadata": {
      "needs_background": "light"
     },
     "output_type": "display_data"
    }
   ],
   "source": [
    "import matplotlib.pyplot as plt\n",
    "%matplotlib inline\n",
    "plt.hist(weight)"
   ]
  },
  {
   "cell_type": "code",
   "execution_count": 9,
   "metadata": {},
   "outputs": [],
   "source": [
    "GGG =np.load(\"GGG.npy\")\n",
    "auxi = np.load(\"aixo.npy\")"
   ]
  },
  {
   "cell_type": "code",
   "execution_count": 11,
   "metadata": {},
   "outputs": [
    {
     "data": {
      "image/png": "[encoded data removed]",
      "text/plain": [
       "<Figure size 432x288 with 1 Axes>"
      ]
     },
     "metadata": {
      "needs_background": "light"
     },
     "output_type": "display_data"
    }
   ],
   "source": [
    "plt.hist(auxi)\n",
    "plt.show()"
   ]
  },
  {
   "cell_type": "code",
   "execution_count": 12,
   "metadata": {},
   "outputs": [
    {
     "data": {
      "text/plain": [
       "(array([1.000000e+00, 1.000000e+00, 0.000000e+00, 4.000000e+00,\n",
       "        9.000000e+00, 9.000000e+00, 7.900000e+01, 3.999689e+06,\n",
       "        1.920000e+02, 1.600000e+01]),\n",
       " array([-1646.07980349, -1434.08032224, -1222.08084099, -1010.08135975,\n",
       "         -798.0818785 ,  -586.08239725,  -374.082916  ,  -162.08343475,\n",
       "           49.9160465 ,   261.91552775,   473.915009  ]),\n",
       " <a list of 10 Patch objects>)"
      ]
     },
     "execution_count": 12,
     "metadata": {},
     "output_type": "execute_result"
    },
    {
     "data": {
      "image/png": "[encoded data removed]",
      "text/plain": [
       "<Figure size 432x288 with 1 Axes>"
      ]
     },
     "metadata": {
      "needs_background": "light"
     },
     "output_type": "display_data"
    }
   ],
   "source": [
    "plt.hist(GGG.reshape(-1))"
   ]
  },
  {
   "cell_type": "code",
   "execution_count": 17,
   "metadata": {},
   "outputs": [
    {
     "name": "stdout",
     "output_type": "stream",
     "text": [
      "(50, 2000, 4)\n"
     ]
    }
   ],
   "source": [
    "print np.array(SASR0).shape"
   ]
  },
  {
   "cell_type": "code",
   "execution_count": 88,
   "metadata": {},
   "outputs": [],
   "source": [
    "ttt, ttt1, ttt2 = roll_out(n_state, env, pi_behavior, 1000*10000, 1)"
   ]
  },
  {
   "cell_type": "code",
   "execution_count": 89,
   "metadata": {},
   "outputs": [],
   "source": [
    "hist = np.array(ttt)[:,0,0]"
   ]
  },
  {
   "cell_type": "code",
   "execution_count": 68,
   "metadata": {},
   "outputs": [
    {
     "name": "stdout",
     "output_type": "stream",
     "text": [
      "[1094   19  939 ... 1754  754 1284]\n"
     ]
    }
   ],
   "source": [
    "print hist"
   ]
  },
  {
   "cell_type": "code",
   "execution_count": 90,
   "metadata": {},
   "outputs": [],
   "source": [
    "histhist = np.zeros([n_state])\n",
    "for i in hist:\n",
    "    histhist[i] += 1\n",
    "    \n",
    "emp_hist = histhist/np.sum(histhist)    "
   ]
  },
  {
   "cell_type": "code",
   "execution_count": 91,
   "metadata": {},
   "outputs": [],
   "source": [
    "\n",
    "emp_hist = emp_hist.reshape([n_state,1])"
   ]
  },
  {
   "cell_type": "code",
   "execution_count": 92,
   "metadata": {},
   "outputs": [],
   "source": [
    "####np.save(\"emp_hist\",emp_hist)"
   ]
  },
  {
   "cell_type": "code",
   "execution_count": 93,
   "metadata": {},
   "outputs": [],
   "source": [
    "###emp_hist = np.load(\"emp_hist.npy\")"
   ]
  },
  {
   "cell_type": "code",
   "execution_count": null,
   "metadata": {},
   "outputs": [],
   "source": []
  }
 ],
 "metadata": {
  "kernelspec": {
   "display_name": "Python 2",
   "language": "python",
   "name": "python2"
  },
  "language_info": {
   "codemirror_mode": {
    "name": "ipython",
    "version": 2
   },
   "file_extension": ".py",
   "mimetype": "text/x-python",
   "name": "python",
   "nbconvert_exporter": "python",
   "pygments_lexer": "ipython2",
   "version": "2.7.12"
  }
 },
 "nbformat": 4,
 "nbformat_minor": 2
}
