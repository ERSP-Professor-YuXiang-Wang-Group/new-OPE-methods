{
 "cells": [
  {
   "cell_type": "code",
   "execution_count": 7,
   "metadata": {},
   "outputs": [],
   "source": [
    "import numpy as np\n",
    "import matplotlib.pyplot as plt \n",
    "%matplotlib inline"
   ]
  },
  {
   "cell_type": "code",
   "execution_count": 5,
   "metadata": {},
   "outputs": [
    {
     "name": "stdout",
     "output_type": "stream",
     "text": [
      "[[ 0.08588438 -0.21969059 -0.4697488  -0.11169932 -0.39776152 -0.42892256\n",
      "  -0.36395743  0.09624025 -0.7683372   0.20460667]\n",
      " [-0.25353235 -0.2541497  -0.272417   -0.26268843 -0.26530635 -0.25693876\n",
      "  -0.26864257 -0.27002975 -0.26175034 -0.27206242]\n",
      " [-0.25653675 -0.25505412 -0.2657823  -0.2612415  -0.25515476 -0.25881788\n",
      "  -0.2596945  -0.26509294 -0.26303986 -0.26564297]]\n",
      "[[-0.25998315 -0.4048006   0.10095242 -0.60788226 -0.4062581  -0.5574121\n",
      "  -0.13139598 -0.38549444 -0.73662376 -0.10027832]\n",
      " [-0.26032776 -0.26158923 -0.26266244 -0.26426297 -0.2544173  -0.2630406\n",
      "  -0.2545614  -0.2608959  -0.2651456  -0.25470063]\n",
      " [-0.25937733 -0.25557107 -0.2575765  -0.25651854 -0.26084185 -0.25922218\n",
      "  -0.25686905 -0.25737876 -0.25882703 -0.25796536]]\n",
      "[[-0.59820807 -0.4691731  -0.45009145 -0.42425734  0.08089311 -0.24280919\n",
      "  -0.20353837 -0.16618243 -0.26234365 -0.2914215 ]\n",
      " [-0.25649068 -0.2647676  -0.25277123 -0.2613527  -0.2533004  -0.26070154\n",
      "  -0.26468003 -0.26417944 -0.26144034 -0.2550234 ]\n",
      " [-0.2572235  -0.2625044  -0.26179802 -0.25774047 -0.25954136 -0.26076126\n",
      "  -0.26013935 -0.25410807 -0.2595429  -0.2568794 ]]\n"
     ]
    }
   ],
   "source": [
    "\n",
    "para = 3\n",
    "mse_list = np.zeros([para,3])\n",
    "true = -0.26557\n",
    "n = 400000\n",
    "\n",
    "for j in range(3):\n",
    "    if j!=1:\n",
    "        aaa = np.load(\"./un_ver=\"+str(j+1)+\"nt=1ts=\"+str(n)+\"gm=0.98.npy\")[:,0:10]\n",
    "        print aaa\n",
    "    else:\n",
    "        aaa = np.load(\"./un_ver=\"+str(j+1)+\"nt=1ts=\"+str(n)+\"gm=0.98.npy\")[:,0:10]\n",
    "        print aaa\n",
    "    for i in range(3):\n",
    "        mse_list[j,i] = np.mean((true-aaa[i,:])*(true-aaa[i,:]))"
   ]
  },
  {
   "cell_type": "code",
   "execution_count": 6,
   "metadata": {},
   "outputs": [
    {
     "name": "stdout",
     "output_type": "stream",
     "text": [
      "[[8.49576741e-02 4.91152969e-05 4.06190447e-05]\n",
      " [6.57495186e-02 4.45631849e-05 5.92906545e-05]\n",
      " [3.46291363e-02 5.69929834e-05 4.86782264e-05]]\n",
      "[-1.2091607  -4.29909024 -4.30513773]\n"
     ]
    }
   ],
   "source": [
    "print mse_list\n",
    "print np.log10(np.mean(mse_list,0))"
   ]
  },
  {
   "cell_type": "code",
   "execution_count": null,
   "metadata": {},
   "outputs": [],
   "source": []
  }
 ],
 "metadata": {
  "kernelspec": {
   "display_name": "Python 2",
   "language": "python",
   "name": "python2"
  },
  "language_info": {
   "codemirror_mode": {
    "name": "ipython",
    "version": 2
   },
   "file_extension": ".py",
   "mimetype": "text/x-python",
   "name": "python",
   "nbconvert_exporter": "python",
   "pygments_lexer": "ipython2",
   "version": "2.7.12"
  }
 },
 "nbformat": 4,
 "nbformat_minor": 2
}
