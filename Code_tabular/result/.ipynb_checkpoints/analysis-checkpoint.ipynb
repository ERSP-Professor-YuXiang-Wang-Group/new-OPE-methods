{
 "cells": [
  {
   "cell_type": "code",
   "execution_count": 33,
   "metadata": {},
   "outputs": [],
   "source": [
    "import numpy as np\n",
    "import matplotlib.pyplot as plt \n",
    "%matplotlib inline"
   ]
  },
  {
   "cell_type": "code",
   "execution_count": 39,
   "metadata": {},
   "outputs": [
    {
     "name": "stdout",
     "output_type": "stream",
     "text": [
      "[-0.26850575 -0.26649138 -0.26352337 -0.2643248   0.          0.\n",
      "  0.          0.          0.          0.          0.          0.\n",
      "  0.          0.          0.          0.          0.          0.\n",
      "  0.          0.          0.          0.          0.          0.\n",
      "  0.          0.          0.          0.          0.          0.\n",
      "  0.          0.          0.          0.          0.          0.\n",
      "  0.          0.          0.          0.          0.          0.\n",
      "  0.          0.          0.          0.          0.          0.\n",
      "  0.          0.          0.          0.          0.          0.\n",
      "  0.          0.          0.          0.          0.          0.\n",
      "  0.          0.          0.          0.          0.          0.\n",
      "  0.          0.          0.          0.          0.          0.\n",
      "  0.          0.          0.          0.          0.          0.\n",
      "  0.          0.          0.          0.          0.          0.\n",
      "  0.          0.          0.          0.          0.          0.\n",
      "  0.          0.          0.          0.          0.          0.\n",
      "  0.          0.          0.          0.        ]\n",
      "-0.10628452\n",
      "0.052070025\n"
     ]
    }
   ],
   "source": [
    "aaa = np.load(\"./on_policy.npy\")\n",
    "print aaa\n",
    "print np.mean(aaa[0:10])\n",
    "print np.std(aaa)\n"
   ]
  },
  {
   "cell_type": "code",
   "execution_count": 35,
   "metadata": {},
   "outputs": [],
   "source": [
    "\n",
    "para = 310\n",
    "mse_list = np.zeros([para,13])\n",
    "true = -0.268\n",
    "n = 10000\n",
    "\n",
    "\n",
    "for j in range(10):\n",
    "    aaa = np.load(\"./ver=\"+str(j+1)+\"nt=10ts=\"+str(n)+\"gm=0.98.npy\")[:,0:1]\n",
    "    for i in range(13):\n",
    "        mse_list[j,i] = np.mean((true-aaa[i,:])*(true-aaa[i,:]))"
   ]
  },
  {
   "cell_type": "code",
   "execution_count": 36,
   "metadata": {},
   "outputs": [
    {
     "name": "stdout",
     "output_type": "stream",
     "text": [
      "[2.66739897e-04 7.27201759e-06 4.94772153e-04 2.31690344e-03\n",
      " 5.39972355e-04 7.01067082e-04 5.11370703e-04 1.06775264e-04\n",
      " 1.06774264e-04 1.92766664e-04 1.02376612e-04 3.61027788e-03\n",
      " 1.06773725e-04]\n"
     ]
    }
   ],
   "source": [
    "print np.mean(mse_list,0)"
   ]
  },
  {
   "cell_type": "code",
   "execution_count": 269,
   "metadata": {},
   "outputs": [],
   "source": [
    "aaa = np.load(\"../GGG.npy\")\n",
    "bbb = np.load(\"../aixo.npy\")"
   ]
  },
  {
   "cell_type": "code",
   "execution_count": 270,
   "metadata": {},
   "outputs": [
    {
     "name": "stdout",
     "output_type": "stream",
     "text": [
      "(2000, 2000)\n"
     ]
    }
   ],
   "source": [
    "print aaa.shape"
   ]
  },
  {
   "cell_type": "code",
   "execution_count": 271,
   "metadata": {},
   "outputs": [
    {
     "name": "stdout",
     "output_type": "stream",
     "text": [
      "(2000,)\n"
     ]
    }
   ],
   "source": [
    "print bbb.shape"
   ]
  },
  {
   "cell_type": "code",
   "execution_count": 247,
   "metadata": {},
   "outputs": [],
   "source": [
    "def quadratic_solver(n, M, bbb , regularizer=0.001):\n",
    "        qp_G = np.matmul(M, M.T)\n",
    "        qp_G += regularizer * np.eye(n)\n",
    "\n",
    "        qp_a = np.matmul(M, bbb)###np.zeros(n, dtype = np.float64)\n",
    "\n",
    "        qp_C = np.zeros((n,n+1), dtype = np.float64)\n",
    "        for i in range(n):\n",
    "                qp_C[i,0] = 1.0\n",
    "                qp_C[i,i+1] = 1.0\n",
    "        qp_b = np.zeros(n+1, dtype = np.float64)\n",
    "        qp_b[0] = 1.0\n",
    "        print np.matmul(qp_C,qp_b)\n",
    "        meq = 1\n",
    "        res = quadprog.solve_qp(qp_G, qp_a, qp_C, qp_b, meq)\n",
    "        print res\n",
    "        w = res[0]\n",
    "        return w"
   ]
  },
  {
   "cell_type": "code",
   "execution_count": 205,
   "metadata": {},
   "outputs": [
    {
     "name": "stdout",
     "output_type": "stream",
     "text": [
      "[1. 1. 1. ... 1. 1. 1.]\n",
      "(array([-6.21509014e-14, -8.37298053e-17, -2.42096139e-16, ...,\n",
      "       -2.83945878e-16,  2.82110501e-16, -8.79625826e-17]), -55.891618488007815, array([  0.        , -10.75614919, -14.47505052, ...,  -5.11258458,\n",
      "        -6.10567072, -49.05271871]), array([2186,  192], dtype=int32), array([-42.24966763,  42.24966763,  40.30686746, ...,  38.36317041,\n",
      "        54.38261746,  40.85835583]), array([   1, 1683,  355, ..., 1053, 1275,  925], dtype=int32))\n"
     ]
    }
   ],
   "source": [
    "n =2000\n",
    "\n",
    "x = quadratic_solver(n,aaa/10000.0,bbb/10000.0)\n",
    "\n",
    "\n",
    "\n",
    "###print np.matmul(aaa.T, bbb).shape"
   ]
  },
  {
   "cell_type": "code",
   "execution_count": 45,
   "metadata": {},
   "outputs": [],
   "source": [
    "import quadprog"
   ]
  },
  {
   "cell_type": "code",
   "execution_count": 274,
   "metadata": {},
   "outputs": [
    {
     "name": "stdout",
     "output_type": "stream",
     "text": [
      "[-6.21509014e-14 -8.37298053e-17 -2.42096139e-16 ... -2.83945878e-16\n",
      "  2.82110501e-16 -8.79625826e-17]\n"
     ]
    }
   ],
   "source": [
    "print x"
   ]
  },
  {
   "cell_type": "code",
   "execution_count": 273,
   "metadata": {},
   "outputs": [
    {
     "data": {
      "text/plain": [
       "(array([1106.,  307.,  190.,  107.,    0.,  139.,    0.,    0.,    0.,\n",
       "         151.]),\n",
       " array([    0.        ,  3200.        ,  6399.99999999,  9599.99999999,\n",
       "        12799.99999998, 15999.99999998, 19199.99999998, 22399.99999997,\n",
       "        25599.99999997, 28799.99999996, 31999.99999996]),\n",
       " <a list of 10 Patch objects>)"
      ]
     },
     "execution_count": 273,
     "metadata": {},
     "output_type": "execute_result"
    },
    {
     "data": {
      "image/png": "[encoded data removed]",
      "text/plain": [
       "<Figure size 432x288 with 1 Axes>"
      ]
     },
     "metadata": {
      "needs_background": "light"
     },
     "output_type": "display_data"
    }
   ],
   "source": [
    "plt.hist(bbb)"
   ]
  },
  {
   "cell_type": "code",
   "execution_count": 144,
   "metadata": {},
   "outputs": [
    {
     "name": "stdout",
     "output_type": "stream",
     "text": [
      "[1. 1.]\n",
      "[1. 1.]\n",
      "(array([0.74996875, 0.25003125]), -0.4996875078115235, array([0.        , 0.24998438]), array([2, 0], dtype=int32), array([0.00074997, 0.        , 0.        ]), array([1], dtype=int32))\n",
      "[0.74996875 0.25003125]\n"
     ]
    }
   ],
   "source": [
    "aaa = np.ones([2])\n",
    "bbb = np.zeros([2,2])\n",
    "bbb[1,1] =4.0\n",
    "###print bbb\n",
    "print aaa\n",
    "print quadratic_solver(2,bbb,aaa)"
   ]
  },
  {
   "cell_type": "code",
   "execution_count": 283,
   "metadata": {},
   "outputs": [
    {
     "ename": "ValueError",
     "evalue": "Cannot load file containing pickled data when allow_pickle=False",
     "output_type": "error",
     "traceback": [
      "\u001b[0;31m---------------------------------------------------------------------------\u001b[0m",
      "\u001b[0;31mValueError\u001b[0m                                Traceback (most recent call last)",
      "\u001b[0;32m<ipython-input-283-5dfc6232373e>\u001b[0m in \u001b[0;36m<module>\u001b[0;34m()\u001b[0m\n\u001b[0;32m----> 1\u001b[0;31m \u001b[0maaa\u001b[0m \u001b[0;34m=\u001b[0m \u001b[0mnp\u001b[0m\u001b[0;34m.\u001b[0m\u001b[0mload\u001b[0m\u001b[0;34m(\u001b[0m\u001b[0;34m\"../confirm_initial.py\"\u001b[0m\u001b[0;34m)\u001b[0m\u001b[0;34m\u001b[0m\u001b[0m\n\u001b[0m",
      "\u001b[0;32m/home/ubuntu/Downloads/Pythontest/local/lib/python2.7/site-packages/numpy/lib/npyio.pyc\u001b[0m in \u001b[0;36mload\u001b[0;34m(file, mmap_mode, allow_pickle, fix_imports, encoding)\u001b[0m\n\u001b[1;32m    449\u001b[0m             \u001b[0;31m# Try a pickle\u001b[0m\u001b[0;34m\u001b[0m\u001b[0;34m\u001b[0m\u001b[0m\n\u001b[1;32m    450\u001b[0m             \u001b[0;32mif\u001b[0m \u001b[0;32mnot\u001b[0m \u001b[0mallow_pickle\u001b[0m\u001b[0;34m:\u001b[0m\u001b[0;34m\u001b[0m\u001b[0m\n\u001b[0;32m--> 451\u001b[0;31m                 raise ValueError(\"Cannot load file containing pickled data \"\n\u001b[0m\u001b[1;32m    452\u001b[0m                                  \"when allow_pickle=False\")\n\u001b[1;32m    453\u001b[0m             \u001b[0;32mtry\u001b[0m\u001b[0;34m:\u001b[0m\u001b[0;34m\u001b[0m\u001b[0m\n",
      "\u001b[0;31mValueError\u001b[0m: Cannot load file containing pickled data when allow_pickle=False"
     ]
    }
   ],
   "source": [
    "aaa = np.load(\"../confirm_initial.py\")"
   ]
  },
  {
   "cell_type": "code",
   "execution_count": 38,
   "metadata": {},
   "outputs": [
    {
     "name": "stdout",
     "output_type": "stream",
     "text": [
      "[1619   64  104 ... 1459  854 1029]\n"
     ]
    }
   ],
   "source": [
    "aaa = np.load(\"../initial.npz.npy\")\n",
    "print aaa[:,0,0]\n",
    "\n",
    "count = np.zeros(2000)\n",
    "for i in aaa:\n",
    "    count[i] +=1\n",
    "count = count/np.sum(count)\n",
    "\n",
    "np.save(\"emp_hist\",count)"
   ]
  },
  {
   "cell_type": "code",
   "execution_count": null,
   "metadata": {},
   "outputs": [],
   "source": []
  }
 ],
 "metadata": {
  "kernelspec": {
   "display_name": "Python 2",
   "language": "python",
   "name": "python2"
  },
  "language_info": {
   "codemirror_mode": {
    "name": "ipython",
    "version": 2
   },
   "file_extension": ".py",
   "mimetype": "text/x-python",
   "name": "python",
   "nbconvert_exporter": "python",
   "pygments_lexer": "ipython2",
   "version": "2.7.12"
  }
 },
 "nbformat": 4,
 "nbformat_minor": 2
}
